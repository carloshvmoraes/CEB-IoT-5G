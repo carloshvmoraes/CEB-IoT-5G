{
  "nbformat": 4,
  "nbformat_minor": 0,
  "metadata": {
    "colab": {
      "name": "2022-01_MongoDB_Blockchain.ipynb",
      "provenance": [],
      "authorship_tag": "ABX9TyOp0VT2VF8N9vAWK/Tuvqm6",
      "include_colab_link": true
    },
    "kernelspec": {
      "name": "python3",
      "display_name": "Python 3"
    },
    "language_info": {
      "name": "python"
    }
  },
  "cells": [
    {
      "cell_type": "markdown",
      "metadata": {
        "id": "view-in-github",
        "colab_type": "text"
      },
      "source": [
        "<a href=\"https://colab.research.google.com/github/carloshvmoraes/CEB-IoT-5G/blob/main/2022_01_MongoDB_Blockchain.ipynb\" target=\"_parent\"><img src=\"https://colab.research.google.com/assets/colab-badge.svg\" alt=\"Open In Colab\"/></a>"
      ]
    },
    {
      "cell_type": "markdown",
      "source": [
        "# Preparação do Sistema"
      ],
      "metadata": {
        "id": "GtGkHClYsuQ9"
      }
    },
    {
      "cell_type": "markdown",
      "source": [
        "## Instalação do MongoDB"
      ],
      "metadata": {
        "id": "KrLcmvfg-kmW"
      }
    },
    {
      "cell_type": "markdown",
      "source": [
        "Realiza a instalação do MongoDB na máquina virtual e inicia seu serviço no Linux."
      ],
      "metadata": {
        "id": "Gg49RQDBWPDk"
      }
    },
    {
      "cell_type": "code",
      "execution_count": 2,
      "metadata": {
        "colab": {
          "base_uri": "https://localhost:8080/"
        },
        "id": "isHMBLCM907u",
        "outputId": "9c97f061-0306-43f4-fd26-792c26a68b58"
      },
      "outputs": [
        {
          "output_type": "stream",
          "name": "stdout",
          "text": [
            "Reading package lists... Done\n",
            "Building dependency tree       \n",
            "Reading state information... Done\n",
            "The following additional packages will be installed:\n",
            "  libpcap0.8 libstemmer0d libyaml-cpp0.5v5 mongo-tools mongodb-clients\n",
            "  mongodb-server mongodb-server-core\n",
            "The following NEW packages will be installed:\n",
            "  libpcap0.8 libstemmer0d libyaml-cpp0.5v5 mongo-tools mongodb mongodb-clients\n",
            "  mongodb-server mongodb-server-core\n",
            "0 upgraded, 8 newly installed, 0 to remove and 37 not upgraded.\n",
            "Need to get 53.1 MB of archives.\n",
            "After this operation, 215 MB of additional disk space will be used.\n",
            "Get:1 http://archive.ubuntu.com/ubuntu bionic-updates/main amd64 libpcap0.8 amd64 1.8.1-6ubuntu1.18.04.2 [118 kB]\n",
            "Get:2 http://archive.ubuntu.com/ubuntu bionic/main amd64 libstemmer0d amd64 0+svn585-1build1 [62.5 kB]\n",
            "Get:3 http://archive.ubuntu.com/ubuntu bionic/universe amd64 libyaml-cpp0.5v5 amd64 0.5.2-4ubuntu1 [150 kB]\n",
            "Get:4 http://archive.ubuntu.com/ubuntu bionic/universe amd64 mongo-tools amd64 3.6.3-0ubuntu1 [12.3 MB]\n",
            "Get:5 http://archive.ubuntu.com/ubuntu bionic-updates/universe amd64 mongodb-clients amd64 1:3.6.3-0ubuntu1.4 [20.2 MB]\n",
            "Get:6 http://archive.ubuntu.com/ubuntu bionic-updates/universe amd64 mongodb-server-core amd64 1:3.6.3-0ubuntu1.4 [20.3 MB]\n",
            "Get:7 http://archive.ubuntu.com/ubuntu bionic-updates/universe amd64 mongodb-server all 1:3.6.3-0ubuntu1.4 [12.6 kB]\n",
            "Get:8 http://archive.ubuntu.com/ubuntu bionic-updates/universe amd64 mongodb amd64 1:3.6.3-0ubuntu1.4 [10.2 kB]\n",
            "Fetched 53.1 MB in 4s (13.8 MB/s)\n",
            "Selecting previously unselected package libpcap0.8:amd64.\n",
            "(Reading database ... 155229 files and directories currently installed.)\n",
            "Preparing to unpack .../0-libpcap0.8_1.8.1-6ubuntu1.18.04.2_amd64.deb ...\n",
            "Unpacking libpcap0.8:amd64 (1.8.1-6ubuntu1.18.04.2) ...\n",
            "Selecting previously unselected package libstemmer0d:amd64.\n",
            "Preparing to unpack .../1-libstemmer0d_0+svn585-1build1_amd64.deb ...\n",
            "Unpacking libstemmer0d:amd64 (0+svn585-1build1) ...\n",
            "Selecting previously unselected package libyaml-cpp0.5v5:amd64.\n",
            "Preparing to unpack .../2-libyaml-cpp0.5v5_0.5.2-4ubuntu1_amd64.deb ...\n",
            "Unpacking libyaml-cpp0.5v5:amd64 (0.5.2-4ubuntu1) ...\n",
            "Selecting previously unselected package mongo-tools.\n",
            "Preparing to unpack .../3-mongo-tools_3.6.3-0ubuntu1_amd64.deb ...\n",
            "Unpacking mongo-tools (3.6.3-0ubuntu1) ...\n",
            "Selecting previously unselected package mongodb-clients.\n",
            "Preparing to unpack .../4-mongodb-clients_1%3a3.6.3-0ubuntu1.4_amd64.deb ...\n",
            "Unpacking mongodb-clients (1:3.6.3-0ubuntu1.4) ...\n",
            "Selecting previously unselected package mongodb-server-core.\n",
            "Preparing to unpack .../5-mongodb-server-core_1%3a3.6.3-0ubuntu1.4_amd64.deb ...\n",
            "Unpacking mongodb-server-core (1:3.6.3-0ubuntu1.4) ...\n",
            "Selecting previously unselected package mongodb-server.\n",
            "Preparing to unpack .../6-mongodb-server_1%3a3.6.3-0ubuntu1.4_all.deb ...\n",
            "Unpacking mongodb-server (1:3.6.3-0ubuntu1.4) ...\n",
            "Selecting previously unselected package mongodb.\n",
            "Preparing to unpack .../7-mongodb_1%3a3.6.3-0ubuntu1.4_amd64.deb ...\n",
            "Unpacking mongodb (1:3.6.3-0ubuntu1.4) ...\n",
            "Setting up libstemmer0d:amd64 (0+svn585-1build1) ...\n",
            "Setting up libyaml-cpp0.5v5:amd64 (0.5.2-4ubuntu1) ...\n",
            "Setting up mongodb-server-core (1:3.6.3-0ubuntu1.4) ...\n",
            "Setting up libpcap0.8:amd64 (1.8.1-6ubuntu1.18.04.2) ...\n",
            "Setting up mongodb-clients (1:3.6.3-0ubuntu1.4) ...\n",
            "Setting up mongodb-server (1:3.6.3-0ubuntu1.4) ...\n",
            "invoke-rc.d: could not determine current runlevel\n",
            "invoke-rc.d: policy-rc.d denied execution of start.\n",
            "Created symlink /etc/systemd/system/multi-user.target.wants/mongodb.service → /lib/systemd/system/mongodb.service.\n",
            "Setting up mongo-tools (3.6.3-0ubuntu1) ...\n",
            "Setting up mongodb (1:3.6.3-0ubuntu1.4) ...\n",
            "Processing triggers for systemd (237-3ubuntu10.53) ...\n",
            "Processing triggers for man-db (2.8.3-2ubuntu0.1) ...\n",
            "Processing triggers for libc-bin (2.27-3ubuntu1.3) ...\n",
            "/sbin/ldconfig.real: /usr/local/lib/python3.7/dist-packages/ideep4py/lib/libmkldnn.so.0 is not a symbolic link\n",
            "\n",
            " * Starting database mongodb\n",
            "   ...done.\n"
          ]
        }
      ],
      "source": [
        "!apt install mongodb\n",
        "!service mongodb start"
      ]
    },
    {
      "cell_type": "markdown",
      "source": [
        "## Classe para Banco de Dados em Blockchain"
      ],
      "metadata": {
        "id": "UVsA1pPLsnat"
      }
    },
    {
      "cell_type": "markdown",
      "source": [
        "Realiza o download do código fonte da classe que cria o objeto de banco de dados com blockchain."
      ],
      "metadata": {
        "id": "VkZdWGIMWVnm"
      }
    },
    {
      "cell_type": "code",
      "source": [
        "!wget https://raw.githubusercontent.com/carloshvmoraes/CEB-IoT-5G/main/2022-01/BancoBlockchain.py -O BancoBlockchain.py"
      ],
      "metadata": {
        "colab": {
          "base_uri": "https://localhost:8080/"
        },
        "id": "Glwbt7voWUfM",
        "outputId": "c76696ac-9caa-4c5b-eed1-1ae6f0ca26a9"
      },
      "execution_count": 3,
      "outputs": [
        {
          "output_type": "stream",
          "name": "stdout",
          "text": [
            "--2022-01-19 21:44:33--  https://raw.githubusercontent.com/carloshvmoraes/CEB-IoT-5G/main/2022-01/BancoBlockchain.py\n",
            "Resolving raw.githubusercontent.com (raw.githubusercontent.com)... 185.199.108.133, 185.199.109.133, 185.199.110.133, ...\n",
            "Connecting to raw.githubusercontent.com (raw.githubusercontent.com)|185.199.108.133|:443... connected.\n",
            "HTTP request sent, awaiting response... 200 OK\n",
            "Length: 14093 (14K) [text/plain]\n",
            "Saving to: ‘BancoBlockchain.py’\n",
            "\n",
            "BancoBlockchain.py  100%[===================>]  13.76K  --.-KB/s    in 0.1s    \n",
            "\n",
            "2022-01-19 21:44:37 (139 KB/s) - ‘BancoBlockchain.py’ saved [14093/14093]\n",
            "\n"
          ]
        }
      ]
    },
    {
      "cell_type": "markdown",
      "source": [
        "# Simulação"
      ],
      "metadata": {
        "id": "F4Wtc2gxvqZX"
      }
    },
    {
      "cell_type": "markdown",
      "source": [
        "A simulação envolve a criação de um conjunto de medidas para teste e construção do banco de dados em blockchain."
      ],
      "metadata": {
        "id": "9Qj0CtX1Wc9G"
      }
    },
    {
      "cell_type": "markdown",
      "source": [
        "## Gerando dados de medição"
      ],
      "metadata": {
        "id": "CaylzWALvyHd"
      }
    },
    {
      "cell_type": "markdown",
      "source": [
        "Cria aleatoriamente um conjunto de medidas definida pelo número de medidas, padrão 10, através de um gerador aleatório com semente fixada em 42."
      ],
      "metadata": {
        "id": "Nv4MQrf1WjpD"
      }
    },
    {
      "cell_type": "code",
      "source": [
        "import random\n",
        "import datetime \n",
        "\n",
        "random.seed(42)\n",
        "\n",
        "# lista de medidas em bytes\n",
        "medidas = []\n",
        "\n",
        "#instante inicial\n",
        "instante = datetime.datetime(2022, 1, 20,00,00)\n",
        "\n",
        "num_medidas = 10\n",
        "for m in range(num_medidas):\n",
        "  instante = instante + datetime.timedelta(milliseconds=random.randrange(60000))\n",
        "  id_medidor = random.randint(1,10)\n",
        "  valor = random.random()*100.0-10.0\n",
        "  med = {\n",
        "      'instante':instante.strftime('%Y-%m-%d %H:%M:%S:%f'),\n",
        "      'id_medidor':id_medidor,\n",
        "      'valor': valor,\n",
        "      }\n",
        "  medidas.append(med)\n",
        "\n",
        "medidas"
      ],
      "metadata": {
        "colab": {
          "base_uri": "https://localhost:8080/"
        },
        "id": "mly6H4Umv0io",
        "outputId": "1c6201c0-89c9-47be-c894-49f0d4a60559"
      },
      "execution_count": 4,
      "outputs": [
        {
          "output_type": "execute_result",
          "data": {
            "text/plain": [
              "[{'id_medidor': 2,\n",
              "  'instante': '2022-01-20 00:00:41:905000',\n",
              "  'valor': -7.498924477733306},\n",
              " {'id_medidor': 4,\n",
              "  'instante': '2022-01-20 00:00:59:929000',\n",
              "  'valor': 12.321073814882276},\n",
              " {'id_medidor': 2,\n",
              "  'instante': '2022-01-20 00:01:48:194000',\n",
              "  'valor': 57.669948742291126},\n",
              " {'id_medidor': 9,\n",
              "  'instante': '2022-01-20 00:02:46:663000',\n",
              "  'valor': -1.3061167370583853},\n",
              " {'id_medidor': 1,\n",
              "  'instante': '2022-01-20 00:03:14:314000',\n",
              "  'valor': -7.020278056192966},\n",
              " {'id_medidor': 4,\n",
              "  'instante': '2022-01-20 00:03:28:642000',\n",
              "  'valor': 40.53552881033624},\n",
              " {'id_medidor': 9,\n",
              "  'instante': '2022-01-20 00:03:30:381000',\n",
              "  'valor': 9.88376506866485},\n",
              " {'id_medidor': 9,\n",
              "  'instante': '2022-01-20 00:04:12:971000',\n",
              "  'valor': 31.95198209616587},\n",
              " {'id_medidor': 10,\n",
              "  'instante': '2022-01-20 00:04:42:410000',\n",
              "  'valor': 17.819070823066273},\n",
              " {'id_medidor': 1,\n",
              "  'instante': '2022-01-20 00:05:39:380000',\n",
              "  'valor': 65.88073671297673}]"
            ]
          },
          "metadata": {},
          "execution_count": 4
        }
      ]
    },
    {
      "cell_type": "markdown",
      "source": [
        "## Armazenando Dados Operacionais"
      ],
      "metadata": {
        "id": "mnnSHr-k66aN"
      }
    },
    {
      "cell_type": "markdown",
      "source": [
        "Cria um banco de dados MongoDB que recebe os blocos em cadeia do blockchain baseados nas medidas obtidas através do gerador aleatório."
      ],
      "metadata": {
        "id": "nvhOXN7zWwKF"
      }
    },
    {
      "cell_type": "code",
      "source": [
        "from BancoBlockchain import IoTBlockchainDB\n",
        "from pprint import pprint\n",
        "\n",
        "banco = IoTBlockchainDB()\n",
        "banco.reset()\n",
        "\n",
        "for med in medidas:\n",
        "  banco.add_transaction(sender=med['id_medidor'],recipient=med['instante'],amount=med['valor'])\n",
        "  banco.mine_for_next_block()\n",
        "\n",
        "pprint(banco.get_last_block())\n",
        "banco.db.command(\"dbstats\")"
      ],
      "metadata": {
        "id": "ePepvDz57Fs9",
        "colab": {
          "base_uri": "https://localhost:8080/"
        },
        "outputId": "6a7eb80d-9356-4560-895a-cfca987d1614"
      },
      "execution_count": 7,
      "outputs": [
        {
          "output_type": "stream",
          "name": "stdout",
          "text": [
            "Bloco #1 adicionado ao blockchain\n",
            "Bloco #2 adicionado ao blockchain\n",
            "Bloco #3 adicionado ao blockchain\n",
            "Bloco #4 adicionado ao blockchain\n",
            "Bloco #5 adicionado ao blockchain\n",
            "Bloco #6 adicionado ao blockchain\n",
            "Bloco #7 adicionado ao blockchain\n",
            "Bloco #8 adicionado ao blockchain\n",
            "Bloco #9 adicionado ao blockchain\n",
            "Bloco #10 adicionado ao blockchain\n",
            "Bloco #11 adicionado ao blockchain\n",
            "{'block_reward': 50,\n",
            " 'difficulty': 1,\n",
            " 'difficulty_bits': 0,\n",
            " 'elapsed_time': 3.528594970703125e-05,\n",
            " 'hash_power': 0.0,\n",
            " 'height': 11,\n",
            " 'merkle_root': 'c745f820bbb46dc9172d7d281584aaaf88b325b4ac4cbcb2a7a04f7865944c0d',\n",
            " 'nonce': 0,\n",
            " 'number_of_transaction': 2,\n",
            " 'previous_block': 10,\n",
            " 'previous_hash': 'e2e9b0e8ef83faa72abb631174626a0bd83a461670aa17c7ac522398c161028c',\n",
            " 'timestamp': 'Wed Jan 19 21:45:17 2022',\n",
            " 'transactions': [{'transaction_id': 'e973ca97164e8d0df91eeb25d356e278916662ade766929101197dd419881ca7',\n",
            "                   'transaction_info': {'amount': 65.88073671297673,\n",
            "                                        'recipient': '2022-01-20 '\n",
            "                                                     '00:05:39:380000',\n",
            "                                        'sender': 1}},\n",
            "                  {'transaction_id': 'b04d0451eaf217d0135537a7b7c683cd8661af78531d7f1061551e31b12c77a1',\n",
            "                   'transaction_info': {'amount': 50,\n",
            "                                        'recipient': '00000000000000000000x1',\n",
            "                                        'sender': '00000000000000000000x0'}}]}\n"
          ]
        },
        {
          "output_type": "execute_result",
          "data": {
            "text/plain": [
              "{'avgObjSize': 758.8181818181819,\n",
              " 'collections': 1,\n",
              " 'dataSize': 8347.0,\n",
              " 'db': 'blockchain',\n",
              " 'fsTotalSize': 115658190848.0,\n",
              " 'fsUsedSize': 45369032704.0,\n",
              " 'indexSize': 4096.0,\n",
              " 'indexes': 1,\n",
              " 'numExtents': 0,\n",
              " 'objects': 11,\n",
              " 'ok': 1.0,\n",
              " 'storageSize': 4096.0,\n",
              " 'views': 0}"
            ]
          },
          "metadata": {},
          "execution_count": 7
        }
      ]
    },
    {
      "cell_type": "markdown",
      "source": [
        "O banco de dados ocupou um espaço de 8347 bytes com 11 objetos armazenados, onde são as 10 medidas e o bloco inicial."
      ],
      "metadata": {
        "id": "xWMzDqZyW-xN"
      }
    }
  ]
}